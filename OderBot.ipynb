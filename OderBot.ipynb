{
 "cells": [
  {
   "cell_type": "markdown",
   "id": "6fa9c8e8",
   "metadata": {
    "height": 30
   },
   "source": [
    "# ChatGPT Prompt Engineering for Developers\n",
    "\n",
    "##  The Chat Format\n",
    "utilizing the chat format to have extended conversations with chatbots personalized or specialized for specific tasks or behaviors."
   ]
  },
  {
   "cell_type": "code",
   "execution_count": 10,
   "id": "864921d9",
   "metadata": {
    "height": 115
   },
   "outputs": [],
   "source": [
    "import os\n",
    "import openai\n",
    "from dotenv import load_dotenv, find_dotenv\n",
    "_ = load_dotenv(find_dotenv()) # read local .env file\n",
    "\n",
    "openai.api_key  = os.getenv('OPENAI_API_KEY')"
   ]
  },
  {
   "cell_type": "code",
   "execution_count": 11,
   "id": "52d55b2c",
   "metadata": {
    "height": 268
   },
   "outputs": [],
   "source": [
    "def get_completion(prompt, model = \"gpt-3.5-turbo\"):\n",
    "    messages = [{\"role\":\"user\",\"content\":prompt}]\n",
    "    response = openai.ChatCompletion.create(\n",
    "    model = model,\n",
    "    messages = messages,\n",
    "    temperature = 0)\n",
    "    return response.choice[0].message[\"content\"]\n",
    "\n",
    "def get_completion_from_msg(messages,model = \"gpt-3.5-turbo\"):\n",
    "    response = openai.ChatCompletion.create(\n",
    "    model = model,\n",
    "    messages = messages,\n",
    "    temperature = 0)\n",
    "    return response.choices[0].message[\"content\"]"
   ]
  },
  {
   "cell_type": "code",
   "execution_count": null,
   "id": "0b0b0b21",
   "metadata": {
    "height": 132
   },
   "outputs": [],
   "source": [
    "messages = [\n",
    "    {\"role\":\"system\", \"content\": \"you are a friendly chatbot\"},\n",
    "    {\"role\":\"user\", \"content\": \"Hi, my name is Markov\"}]\n",
    "    \n",
    "response = get_completion_from_msg(messages)\n",
    "response"
   ]
  },
  {
   "cell_type": "code",
   "execution_count": null,
   "id": "74a8ea25",
   "metadata": {
    "height": 115
   },
   "outputs": [],
   "source": [
    "messages =  [  \n",
    "{'role':'system', 'content':'You are friendly chatbot.'},    \n",
    "{'role':'user', 'content':'Yes,  can you remind me, What is my name?'}  ]\n",
    "response = get_completion_from_msg(messages)\n",
    "print(response)"
   ]
  },
  {
   "cell_type": "markdown",
   "id": "e93e9eb4",
   "metadata": {
    "height": 30
   },
   "source": [
    "Here the bot lost track and assumed it was asked the name of the user not the name assigned or given as input. \n",
    "We can fix this by **iteratively** improving our prompt by **Few shot learning**"
   ]
  },
  {
   "cell_type": "code",
   "execution_count": null,
   "id": "a5c61311",
   "metadata": {
    "height": 166
   },
   "outputs": [],
   "source": [
    "messages =  [  \n",
    "{'role':'system', 'content':'You are friendly chatbot.'},\n",
    "{'role':'user', 'content':'Hi, my name is Markov'},\n",
    "{'role':'assistant', 'content': \"Hi Isa! It's nice to meet you. \\\n",
    "Is there anything I can help you with today?\"},\n",
    "{'role':'user', 'content':'Yes, you can remind me, What is my name?'}  ]\n",
    "response = get_completion_from_msg(messages)\n",
    "print(response)"
   ]
  },
  {
   "cell_type": "markdown",
   "id": "01e77489",
   "metadata": {
    "height": 30
   },
   "source": [
    "# OrderBot\n",
    "We can automate the collection of user prompts and assistant responses to build a  OrderBot. The OrderBot will take orders at a pizza restaurant. "
   ]
  },
  {
   "cell_type": "code",
   "execution_count": null,
   "id": "94485aef",
   "metadata": {
    "height": 268
   },
   "outputs": [],
   "source": [
    "import panel as pn \n",
    "\n",
    "def collect_messages(_):\n",
    "    prompt = inp.value_input\n",
    "    inp.value = \" \"\n",
    "    context.append({\"role\":\"user\",\"content\":f\"{prompt}\"})\n",
    "    response = get_completion_from_msg(context)\n",
    "    context.append({\"role\":\"assistant\",\"content\":f\"{response}\"})\n",
    "    panels.append(\n",
    "            pn.Row(\"User:\", pn.pane.Markdown(prompt,width=600)))\n",
    "    panels.append(\n",
    "    pn.Row(\"Assistant\",pn.pane.Markdown(response, width = 600)))\n",
    "    \n",
    "    return pn.Column(*panels)"
   ]
  },
  {
   "cell_type": "code",
   "execution_count": null,
   "id": "1676cee7",
   "metadata": {
    "height": 489
   },
   "outputs": [],
   "source": [
    "pn.extension()\n",
    "panels = [] # to collect display \n",
    "\n",
    "context = [{\"role\":\"system\",\"content\":\"\"\"\n",
    "You are OrderBot, an automated service to collect orders for a Kerala restaurant. \\\n",
    "You first greet the customer, then collects the order, \\\n",
    "and then asks if it's a pickup or delivery. \\\n",
    "You wait to collect the entire order, then summarize it and check for a final \\\n",
    "time if the customer wants to add anything else. \\\n",
    "If it's a delivery, you ask for an address. \\\n",
    "Finally you collect the payment.\\\n",
    "Make sure to clarify all options, extras and sizes to uniquely \\\n",
    "identify the item from the menu.\\\n",
    "You respond in a short, very conversational friendly style. \\\n",
    "The menu includes \\\n",
    "Biryani $50\\\n",
    "Coffee $10\\\n",
    "Chai $10\\\n",
    "Mutton Biriyani $70\n",
    "Fries $5\n",
    "Sauce $10\n",
    "Coke $4\n",
    "Pasta $7\n",
    "Cheese Pasta $14\"\"\"}]\n",
    "\n",
    "inp = pn.widgets.TextInput(value=\"Hi\", placeholder='Enter text here…')\n",
    "button_conversation = pn.widgets.Button(name=\"Chat!\")\n",
    "\n",
    "interactive_conversation = pn.bind(collect_messages, button_conversation)\n",
    "\n",
    "dashboard = pn.Column(\n",
    "    inp,\n",
    "    pn.Row(button_conversation),\n",
    "    pn.panel(interactive_conversation, loading_indicator=True, height=600),\n",
    ")\n",
    "\n",
    "dashboard\n"
   ]
  }
 ],
 "metadata": {
  "kernelspec": {
   "display_name": "Python 3 (ipykernel)",
   "language": "python",
   "name": "python3"
  },
  "language_info": {
   "codemirror_mode": {
    "name": "ipython",
    "version": 3
   },
   "file_extension": ".py",
   "mimetype": "text/x-python",
   "name": "python",
   "nbconvert_exporter": "python",
   "pygments_lexer": "ipython3",
   "version": "3.9.16"
  }
 },
 "nbformat": 4,
 "nbformat_minor": 5
}
