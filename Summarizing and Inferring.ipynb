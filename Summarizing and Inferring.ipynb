{
 "cells": [
  {
   "cell_type": "markdown",
   "id": "4c9d0316",
   "metadata": {
    "height": 30
   },
   "source": [
    "# ChatGPT Prompt Engineering for Developers\n",
    "\n",
    "## 3. Summarizing and Inferring\n",
    "\n",
    "The model can be used to summerize content as we saw in previous notebook and also to infer insights from content "
   ]
  },
  {
   "cell_type": "code",
   "execution_count": 1,
   "id": "e123a67e",
   "metadata": {
    "height": 132
   },
   "outputs": [],
   "source": [
    "import openai\n",
    "import os\n",
    "\n",
    "from dotenv import load_dotenv, find_dotenv\n",
    "_ = load_dotenv(find_dotenv()) # read local .env file\n",
    "\n",
    "openai.api_key  = os.getenv('OPENAI_API_KEY')"
   ]
  },
  {
   "cell_type": "code",
   "execution_count": 2,
   "id": "2134d780",
   "metadata": {
    "height": 149
   },
   "outputs": [],
   "source": [
    "def get_completion(prompt, model=\"gpt-3.5-turbo\"): \n",
    "    messages = [{\"role\": \"user\", \"content\": prompt}]\n",
    "    response = openai.ChatCompletion.create(\n",
    "        model=model,\n",
    "        messages=messages,\n",
    "        temperature=0, \n",
    "    )\n",
    "    return response.choices[0].message[\"content\"]"
   ]
  },
  {
   "cell_type": "markdown",
   "id": "932fc955",
   "metadata": {
    "height": 30
   },
   "source": [
    "Here is an example of IBM describing what blochain is lets summerize it in different way \n",
    "- summerize it \n",
    "- summerize it arround a key concept ot part of the paragraph\n",
    "- extracting content "
   ]
  },
  {
   "cell_type": "code",
   "execution_count": 3,
   "id": "d9283aa7",
   "metadata": {
    "height": 234
   },
   "outputs": [],
   "source": [
    "IBM_Blockchain = \"\"\" Blockchain defined: Blockchain is a shared,\\\n",
    "immutable ledger that facilitates the process of recording transactions and tracking\\\n",
    "assets in a business network. An asset can be tangible (a house, car, cash, land)\\\n",
    "or intangible (intellectual property, patents, copyrights, branding). Virtually anything \\\n",
    "of value can be tracked and traded on a blockchain network, reducing risk and cutting costs for all involved.\n",
    "\n",
    "Why blockchain is important: Business runs on information. The faster it’s\\\n",
    "received and the more accurate it is, the better. Blockchain is ideal for delivering \\\n",
    "that information because it provides immediate, shared and completely transparent \\\n",
    "information stored on an immutable ledger that can be accessed only by permissioned network members.\\\n",
    "A blockchain network can track orders, payments, accounts, production and much more.\\\n",
    "And because members share a single view of the truth, you can see all details of a transaction end to end,\\\n",
    "giving you greater confidence, as well as new efficiencies and opportunities.\"\"\""
   ]
  },
  {
   "cell_type": "code",
   "execution_count": 4,
   "id": "ce4cf063",
   "metadata": {
    "height": 115
   },
   "outputs": [
    {
     "data": {
      "text/plain": [
       "'Blockchain is a shared, immutable ledger that tracks assets in a business network, both tangible and intangible. It reduces risk and cuts costs for all involved. Blockchain is important because it provides immediate, shared, and transparent information stored on an immutable ledger that can only be accessed by permissioned network members. It can track orders, payments, accounts, production, and more, giving greater confidence and new efficiencies and opportunities.'"
      ]
     },
     "execution_count": 4,
     "metadata": {},
     "output_type": "execute_result"
    }
   ],
   "source": [
    "prompt = f\"\"\" Summerize the text \n",
    "            \n",
    "            {IBM_Blockchain}\"\"\"\n",
    "\n",
    "response = get_completion(prompt)\n",
    "response"
   ]
  },
  {
   "cell_type": "markdown",
   "id": "ee1516e4",
   "metadata": {
    "height": 30
   },
   "source": [
    "### Summarize with a word/sentence/character limit"
   ]
  },
  {
   "cell_type": "code",
   "execution_count": 5,
   "id": "08e0a05c",
   "metadata": {
    "height": 115
   },
   "outputs": [
    {
     "data": {
      "text/plain": [
       "'Blockchain is an immutable ledger that records transactions and tracks assets in a business network. It can track tangible and intangible assets, reducing risk and cutting costs. Blockchain is important because it provides immediate, shared, and transparent information stored on an immutable ledger. It can track orders, payments, accounts, production, and more, giving members a single view of the truth. This provides greater confidence, efficiencies, and opportunities for businesses.'"
      ]
     },
     "execution_count": 5,
     "metadata": {},
     "output_type": "execute_result"
    }
   ],
   "source": [
    "prompt = f\"\"\" Summerize the text within 50 words with 5 sentence  \n",
    "            \n",
    "            {IBM_Blockchain}\"\"\"\n",
    "\n",
    "response = get_completion(prompt)\n",
    "response"
   ]
  },
  {
   "cell_type": "markdown",
   "id": "81883f9e",
   "metadata": {
    "height": 30
   },
   "source": [
    "### Summarize with a focus importance of blockchain"
   ]
  },
  {
   "cell_type": "code",
   "execution_count": 6,
   "id": "4643b555",
   "metadata": {
    "height": 149
   },
   "outputs": [
    {
     "data": {
      "text/plain": [
       "'Blockchain is important because it provides immediate, shared, and transparent information stored on an immutable ledger that can be accessed only by permissioned network members. It can track orders, payments, accounts, production, and much more, giving businesses greater confidence, as well as new efficiencies and opportunities.'"
      ]
     },
     "execution_count": 6,
     "metadata": {},
     "output_type": "execute_result"
    }
   ],
   "source": [
    "prompt = f\"\"\" Summerize the text with focus on the/\n",
    "            importance of blockchain rather than what /\n",
    "            blockchain is\n",
    "            \n",
    "            {IBM_Blockchain}\"\"\"\n",
    "\n",
    "response = get_completion(prompt)\n",
    "response"
   ]
  },
  {
   "cell_type": "markdown",
   "id": "ea7130e2",
   "metadata": {
    "height": 30
   },
   "source": [
    "### Trying  \"extract\" instead of \"summarize\""
   ]
  },
  {
   "cell_type": "code",
   "execution_count": 7,
   "id": "cfb8e057",
   "metadata": {
    "height": 183
   },
   "outputs": [
    {
     "name": "stdout",
     "output_type": "stream",
     "text": [
      "Blockchain is a shared, immutable ledger that tracks assets in a business network. It reduces risk and cuts costs by providing immediate, transparent information stored on an immutable ledger. It can track orders, payments, accounts, production, and more.\n"
     ]
    }
   ],
   "source": [
    "prompt = f\"\"\"\n",
    "Your task is to extract relevant information from the text/\n",
    "From the review below, delimited by triple quotes \\\n",
    "extract the information relevant. Limit to 30 words. \n",
    "\n",
    "Review: ```{IBM_Blockchain}```\n",
    "\"\"\"\n",
    "\n",
    "response = get_completion(prompt)\n",
    "print(response)"
   ]
  },
  {
   "cell_type": "code",
   "execution_count": 8,
   "id": "e13658e1",
   "metadata": {
    "height": 1220
   },
   "outputs": [],
   "source": [
    "# review for a standing lamp\n",
    "review_1 = \"\"\"\n",
    "Needed a nice lamp for my bedroom, and this one \\\n",
    "had additional storage and not too high of a price \\\n",
    "point. Got it fast - arrived in 2 days. The string \\\n",
    "to the lamp broke during the transit and the company \\\n",
    "happily sent over a new one. Came within a few days \\\n",
    "as well. It was easy to put together. Then I had a \\\n",
    "missing part, so I contacted their support and they \\\n",
    "very quickly got me the missing piece! Seems to me \\\n",
    "to be a great company that cares about their customers \\\n",
    "and products. \n",
    "\"\"\"\n",
    "\n",
    "# review for an electric toothbrush\n",
    "review_2 = \"\"\"\n",
    "My dental hygienist recommended an electric toothbrush, \\\n",
    "which is why I got this. The battery life seems to be \\\n",
    "pretty impressive so far. After initial charging and \\\n",
    "leaving the charger plugged in for the first week to \\\n",
    "condition the battery, I've unplugged the charger and \\\n",
    "been using it for twice daily brushing for the last \\\n",
    "3 weeks all on the same charge. But the toothbrush head \\\n",
    "is too small. I’ve seen baby toothbrushes bigger than \\\n",
    "this one. I wish the head was bigger with different \\\n",
    "length bristles to get between teeth better because \\\n",
    "this one doesn’t.  Overall if you can get this one \\\n",
    "around the $50 mark, it's a good deal. The manufactuer's \\\n",
    "replacements heads are pretty expensive, but you can \\\n",
    "get generic ones that're more reasonably priced. This \\\n",
    "toothbrush makes me feel like I've been to the dentist \\\n",
    "every day. My teeth feel sparkly clean! \n",
    "\"\"\"\n",
    "\n",
    "# review for a blender\n",
    "review_3 = \"\"\"\n",
    "So, they still had the 17 piece system on seasonal \\\n",
    "sale for around $49 in the month of November, about \\\n",
    "half off, but for some reason (call it price gouging) \\\n",
    "around the second week of December the prices all went \\\n",
    "up to about anywhere from between $70-$89 for the same \\\n",
    "system. And the 11 piece system went up around $10 or \\\n",
    "so in price also from the earlier sale price of $29. \\\n",
    "So it looks okay, but if you look at the base, the part \\\n",
    "where the blade locks into place doesn’t look as good \\\n",
    "as in previous editions from a few years ago, but I \\\n",
    "plan to be very gentle with it (example, I crush \\\n",
    "very hard items like beans, ice, rice, etc. in the \\ \n",
    "blender first then pulverize them in the serving size \\\n",
    "I want in the blender then switch to the whipping \\\n",
    "blade for a finer flour, and use the cross cutting blade \\\n",
    "first when making smoothies, then use the flat blade \\\n",
    "if I need them finer/less pulpy). Special tip when making \\\n",
    "smoothies, finely cut and freeze the fruits and \\\n",
    "vegetables (if using spinach-lightly stew soften the \\ \n",
    "spinach then freeze until ready for use-and if making \\\n",
    "sorbet, use a small to medium sized food processor) \\ \n",
    "that you plan to use that way you can avoid adding so \\\n",
    "much ice if at all-when making your smoothie. \\\n",
    "After about a year, the motor was making a funny noise. \\\n",
    "I called customer service but the warranty expired \\\n",
    "already, so I had to buy another one. FYI: The overall \\\n",
    "quality has gone done in these types of products, so \\\n",
    "they are kind of counting on brand recognition and \\\n",
    "consumer loyalty to maintain sales. Got it in about \\\n",
    "two days.\n",
    "\"\"\"\n",
    "\n",
    "reviews = [review_1, review_2, review_3]\n",
    "\n"
   ]
  },
  {
   "cell_type": "code",
   "execution_count": 9,
   "id": "bc521983",
   "metadata": {
    "height": 234
   },
   "outputs": [
    {
     "name": "stdout",
     "output_type": "stream",
     "text": [
      "0 Affordable lamp with storage, fast shipping, and excellent customer service. Easy to assemble and missing parts were quickly replaced. \n",
      "\n",
      "1 Good battery life, small toothbrush head, but effective cleaning. Good deal if bought around $50. \n",
      "\n",
      "2 Mixed review of a blender system with price gouging and decreased quality, but helpful tips for use. \n",
      "\n"
     ]
    }
   ],
   "source": [
    "for i in range(len(reviews)):\n",
    "    prompt = f\"\"\"\n",
    "    Your task is to generate a short summary of a product \\ \n",
    "    review from an ecommerce site. \n",
    "\n",
    "    Summarize the review below, delimited by triple \\\n",
    "    backticks in at most 20 words. \n",
    "\n",
    "    Review: ```{reviews[i]}```\n",
    "    \"\"\"\n",
    "\n",
    "    response = get_completion(prompt)\n",
    "    print(i, response, \"\\n\")"
   ]
  },
  {
   "cell_type": "markdown",
   "id": "1cbe1c41",
   "metadata": {
    "height": 30
   },
   "source": [
    "### Infer sentiment and topics from product reviews and news articles.\n",
    "\n",
    "With `gpt-3.5-turbo` sentiment analysis, topic recognition is made easy , along with summerizing "
   ]
  },
  {
   "cell_type": "code",
   "execution_count": 10,
   "id": "63cd6418",
   "metadata": {
    "height": 251
   },
   "outputs": [
    {
     "name": "stdout",
     "output_type": "stream",
     "text": [
      "The sentiment of the presented text is NEGATIVE.\n"
     ]
    }
   ],
   "source": [
    "review = \"\"\"I've been dealing with the customer service team \\\n",
    "for a couple of days now with my initial issue not being listened\\\n",
    "to until having to explain several times, which is disappointing.\\\n",
    "Sizing at Hello Molly runs extremely small and I've had several credit notes.\\\n",
    "I ordered a skirt and the quality was INCREDIBLY see through and\\\n",
    "quality overall on products, is quite poor. I've requested for a REFUND to\\\n",
    "my card as that is an entitlement to customers. Offering ONLY credit notes is actually illegal\\\n",
    "for a company to do. Haven't got a reply since. Will be taking this matter further.\"\"\"\n",
    "\n",
    "prompt = f\"\"\" infer the sentiment of the presented text {review}\n",
    " respond if its just NEGATIVE or POSITIVE \"\"\"\n",
    "\n",
    "response = get_completion(prompt)\n",
    "print(response)"
   ]
  },
  {
   "cell_type": "markdown",
   "id": "f13dbae5",
   "metadata": {
    "height": 30
   },
   "source": [
    "### Identify types of emotions"
   ]
  },
  {
   "cell_type": "code",
   "execution_count": 11,
   "id": "8f34090b",
   "metadata": {
    "height": 183
   },
   "outputs": [
    {
     "name": "stdout",
     "output_type": "stream",
     "text": [
      "disappointed, frustrated, dissatisfied, angry, determined\n"
     ]
    }
   ],
   "source": [
    "prompt = f\"\"\"\n",
    "Identify a list of emotions that the writer of the \\\n",
    "following review is expressing. Include no more than \\\n",
    "five items in the list. Format your answer as a list of \\\n",
    "lower-case words separated by commas.\n",
    "\n",
    "Review text: '''{review}'''\n",
    "\"\"\"\n",
    "response = get_completion(prompt)\n",
    "print(response)"
   ]
  },
  {
   "cell_type": "markdown",
   "id": "d3836bc2",
   "metadata": {
    "height": 30
   },
   "source": [
    "### Extract product and company name from customer reviews\n"
   ]
  },
  {
   "cell_type": "code",
   "execution_count": 12,
   "id": "e751ef66",
   "metadata": {
    "height": 285
   },
   "outputs": [
    {
     "name": "stdout",
     "output_type": "stream",
     "text": [
      "{\n",
      "  \"Item\": \"skirt\",\n",
      "  \"Brand\": \"Hello Molly\"\n",
      "}\n"
     ]
    }
   ],
   "source": [
    "prompt = f\"\"\"\n",
    "Identify the following items from the review text: \n",
    "- Item purchased by reviewer\n",
    "- Company that made the item\n",
    "\n",
    "The review is delimited with triple backticks. \\\n",
    "Format your response as a JSON object with \\\n",
    "\"Item\" and \"Brand\" as the keys. \n",
    "If the information isn't present, use \"unknown\" \\\n",
    "as the value.\n",
    "Make your response as short as possible.\n",
    "  \n",
    "Review text: '''{review}'''\n",
    "\"\"\"\n",
    "response = get_completion(prompt)\n",
    "print(response)"
   ]
  },
  {
   "cell_type": "markdown",
   "id": "e879a8de",
   "metadata": {
    "height": 30
   },
   "source": [
    "### Doing multiple tasks at once"
   ]
  },
  {
   "cell_type": "code",
   "execution_count": 13,
   "id": "58151e8e",
   "metadata": {
    "height": 336
   },
   "outputs": [
    {
     "name": "stdout",
     "output_type": "stream",
     "text": [
      "{\n",
      "    \"Sentiment\": \"negative\",\n",
      "    \"Anger\": true,\n",
      "    \"Item\": \"skirt\",\n",
      "    \"Brand\": \"Hello Molly\"\n",
      "}\n"
     ]
    }
   ],
   "source": [
    "prompt = f\"\"\"\n",
    "Identify the following items from the review text: \n",
    "- Sentiment (positive or negative)\n",
    "- Is the reviewer expressing anger? (true or false)\n",
    "- Item purchased by reviewer\n",
    "- Company that made the item\n",
    "\n",
    "The review is delimited with triple backticks. \\\n",
    "Format your response as a JSON object with \\\n",
    "\"Sentiment\", \"Anger\", \"Item\" and \"Brand\" as the keys.\n",
    "If the information isn't present, use \"unknown\" \\\n",
    "as the value.\n",
    "Make your response as short as possible.\n",
    "Format the Anger value as a boolean.\n",
    "\n",
    "Review text: '''{review}'''\n",
    "\"\"\"\n",
    "response = get_completion(prompt)\n",
    "print(response)"
   ]
  },
  {
   "cell_type": "code",
   "execution_count": 14,
   "id": "e9214b8c",
   "metadata": {
    "height": 217
   },
   "outputs": [
    {
     "name": "stdout",
     "output_type": "stream",
     "text": [
      "Customer service, Sizing, Quality, Refund, Credit notes.\n"
     ]
    }
   ],
   "source": [
    "prompt = f\"\"\"\n",
    "Determine five topics that are being discussed in the \\\n",
    "following text, which is delimited by triple backticks.\n",
    "\n",
    "Make each item one or two words long. \n",
    "\n",
    "Format your response as a list of items separated by commas.\n",
    "\n",
    "Text sample: '''{review}'''\n",
    "\"\"\"\n",
    "response = get_completion(prompt)\n",
    "print(response)"
   ]
  }
 ],
 "metadata": {
  "kernelspec": {
   "display_name": "Python 3 (ipykernel)",
   "language": "python",
   "name": "python3"
  },
  "language_info": {
   "codemirror_mode": {
    "name": "ipython",
    "version": 3
   },
   "file_extension": ".py",
   "mimetype": "text/x-python",
   "name": "python",
   "nbconvert_exporter": "python",
   "pygments_lexer": "ipython3",
   "version": "3.9.16"
  }
 },
 "nbformat": 4,
 "nbformat_minor": 5
}
